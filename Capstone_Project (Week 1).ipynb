{
 "cells": [
  {
   "cell_type": "markdown",
   "id": "4b380533-376e-4ea7-b2ee-a747857a31f6",
   "metadata": {
    "tags": []
   },
   "source": [
    " <h1 align=center><font size = 5>Capstone Project - The Battle of Neighborhoods (Week 1)</h1>\n",
    "    "
   ]
  },
  {
   "cell_type": "markdown",
   "id": "71b28e13-be02-4f52-b089-7c96c4d9eebd",
   "metadata": {},
   "source": [
    "## Introduction and Background to Business Case - The City of Johannesburg"
   ]
  },
  {
   "cell_type": "markdown",
   "id": "f7151b88-bcbb-41a3-aeca-732103320c74",
   "metadata": {},
   "source": [
    "# Introduction"
   ]
  },
  {
   "cell_type": "markdown",
   "id": "4a8fc54e-bad8-4b9a-826d-a0b29ea9190e",
   "metadata": {},
   "source": [
    "The focus of this projects will be on assisting Small, Medium and Micro Enterprises (SMMEs) in identifying the best locations in and around Johannesburg City, to establish their businesses in a strategical way. This can be achieved by getting insight into more of the current economic activities that are dominating in the City, the geographical economic landscape and the population distribution of the City. Our analysis, will not only aid the existing SMMEs, but will also help aspiring entrepreneurs in establishing new businesses. One of the most challenging factors normally faced by business owners and aspiring business owners is the placement of their businesses according to the geographical landscape and demographics of the area in which they want to operate in. At the moment, the challenges faced by SMMEs is that due to the lack of knowledge concerning economic activity per district and their corresponding demographics, they struggle to remain competitive after establishment. "
   ]
  },
  {
   "cell_type": "markdown",
   "id": "1af6882d-b08d-4aea-8907-0dbb12d5de2c",
   "metadata": {},
   "source": [
    "## Background"
   ]
  },
  {
   "cell_type": "markdown",
   "id": "413d3697-ba0d-42e3-9309-804a8c82b187",
   "metadata": {},
   "source": [
    "Johannesburg, aslo reffered to as Joburg or \"The City of Gold\", located in the Southern Part of the Globe in a country referred to as South Africa, is currently the largest single metropolitan contributor to the national economic product. According to the city economic data, the national average growth in domestic product(GDP) has been 1.8% over the past 10 years, with Johannesburg marginally outpacing the stated growth with an average growth rate of of 2% per annum. The city's contribution to the national economy is almost 16%, while it is 40% to the entire Guateng Province/State. The per capita gross geographic product (also referred to as GGP) averages around R31 000 ($2 214.54). This compares to the World Bank-designated middle income countries who's average GGP per capita of R33 000 (2 357.42 US Dollars).\n",
    "\n",
    "The average annual income per household is estimated to be averaging around R31 048 (2 217.97 US Dollars), which is deemed to be higher on average by 57 percent when compared to that of South Africa as a whole, and 9% higher than the GGP per capita for the Gauteng Province(State).\n",
    "\n",
    "The dominating economic sectors with Gauteng Province, three of which are service sectors, are listed (not listed in any specific order are:\n",
    "\n",
    "    1. Financial and business services\n",
    "    2. Retail and wholesale trade\n",
    "    3. Community and social services\n",
    "    4. Manufactoring\n",
    "    \n",
    "The Guateng Province/State is divide into three Metropolitan governing municipalities which are, the City of Ekurhukeni, the City of Johanneburg and the City of Tshwane. the City of Jonnesburg alone is divide into 10 subdistrics which are Alexandra, Johannesburg, Lenasia, Midrand, Rooderpoort, Sandton, Soweto, Mshongo, Klipfonteinwiew and Orange farm."
   ]
  },
  {
   "cell_type": "markdown",
   "id": "ace6b540-a524-461d-83d5-9a82522db67e",
   "metadata": {},
   "source": [
    "# Business Case"
   ]
  },
  {
   "cell_type": "markdown",
   "id": "be6c7f10-99e3-4236-aa5a-6ebb00daad35",
   "metadata": {},
   "source": [
    "SMMEs are not spared from the global economic crisis and financlial turmoil which normally occurs worldwide and therefore must adjust their financial needs to acccomodate such dynamic phenomena. It is important that the reader notes that SMMEs are major contributors to the economy of South Africa. They provide employment opportunities and have the potential of increasing the Country of South Africa's economic wealth resulting in the current seriously crises of the high employment rates faced by the country. I believe that in delving more into the demographics of the City of Johannesburg and understanding consumer behaivor which helps in producing or forming excellent and more focused business cases that may aid SMMEs in achieving growth and success in the business. By providing proper business analysis by considering all statistics relating to the different locations and the kind of business activities, a data scientist would be able to provide invaluable insights to current and prospective business owners with the right information in order for them to formulate better and more focused business offerings. The aim here is to leverage the statistical packages offered through IBM and making the use of the Foursqaure API in uderstanding the segmentation of different business activity per corresponding location in Johannesburg."
   ]
  },
  {
   "cell_type": "markdown",
   "id": "d6cc77f6-9852-48d7-8734-26f8d32dc707",
   "metadata": {},
   "source": [
    "# Suggested Approach in Providing the Business and Geographical Analysis of Johannesburg\n",
    "\n",
    "# Data\n",
    "\n",
    "In this project,  we will be in make calls to the Foursquare API for analysing and establishing trends relating to business activities in and around the city of Johannesburg. We will use the Foursqaure API to explore a Foursquare user, to explore a geographical location, and to get trending venues around Johannesburg. We will also be using the Folium package which will help us illustrate the geographical location of venues by illustration of the Johannesburg map wit constructed data points providing us with bettter insight of the activities and their corresponding locations in Johannesburg. We will be searching for different venue categories, in determining the location of different business types/category and also evaluating customer behavior around the different location categories which we will specify in the Notebook that we shall create. We will create dataframes using some of the useful libraries that come with python package such as numpy, pandas, requests, random, to name quite a few. \n",
    "\n",
    "Once we have successfully obtained our data, we will be performing some visualization to obtain, trends, distribution and different clusters of business activities around Johannesburg and also, in information permits, better understand the different type of customer categories and their preferences in participation in business trade. We will be able to identify where most business activity occurs and the kind of business activity. we will also be identify the type of prospective clientelle that makes use of the offered business service. We will also be performing some data transfomation in order to have our data in readable formats and also enable us to perform statistical analysis of the geographic data. We will also be analyzing specific business service rates (which measures the satisfaction of customers with the business service, gathering user tips about the different locations. At the end, we will derive the location details (latitude and longitude) of Johannesburg to produce a map that will enable to embed some of the results that we will produce. \n",
    "\n"
   ]
  },
  {
   "cell_type": "markdown",
   "id": "c6c22e8c-3b0a-41b9-b3f3-6f178c3a2b6c",
   "metadata": {},
   "source": [
    "Thank-you"
   ]
  }
 ],
 "metadata": {
  "kernelspec": {
   "display_name": "Python",
   "language": "python",
   "name": "conda-env-python-py"
  },
  "language_info": {
   "codemirror_mode": {
    "name": "ipython",
    "version": 3
   },
   "file_extension": ".py",
   "mimetype": "text/x-python",
   "name": "python",
   "nbconvert_exporter": "python",
   "pygments_lexer": "ipython3",
   "version": "3.6.13"
  }
 },
 "nbformat": 4,
 "nbformat_minor": 5
}
